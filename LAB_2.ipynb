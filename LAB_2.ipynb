{
  "nbformat": 4,
  "nbformat_minor": 0,
  "metadata": {
    "colab": {
      "provenance": [],
      "authorship_tag": "ABX9TyNF+zneNhpmO5ag4oJMApH9",
      "include_colab_link": true
    },
    "kernelspec": {
      "name": "python3",
      "display_name": "Python 3"
    },
    "language_info": {
      "name": "python"
    }
  },
  "cells": [
    {
      "cell_type": "markdown",
      "metadata": {
        "id": "view-in-github",
        "colab_type": "text"
      },
      "source": [
        "<a href=\"https://colab.research.google.com/github/KhyatiSatija/Software_Engineering/blob/main/LAB_2.ipynb\" target=\"_parent\"><img src=\"https://colab.research.google.com/assets/colab-badge.svg\" alt=\"Open In Colab\"/></a>"
      ]
    },
    {
      "cell_type": "markdown",
      "source": [
        "KHYATI SATIJA E22CSEU1197\n",
        "\n",
        "software engineering lab - 2\n",
        "\n"
      ],
      "metadata": {
        "id": "sPkowj2fzUIy"
      }
    },
    {
      "cell_type": "code",
      "execution_count": null,
      "metadata": {
        "id": "n6r1Nn2CyjhF"
      },
      "outputs": [],
      "source": [
        "class shape:\n",
        "    def __init__(self,area):\n",
        "        self.area =  area\n",
        "    global pi\n",
        "    pi = 3.14\n",
        "\n",
        "class circle(shape):\n",
        "    def __init__(self,radius):\n",
        "\n",
        "        self.radius = radius\n",
        "    def area(self):\n",
        "        return pi * self.radius * self.radius\n",
        "    def circumference(self):\n",
        "        return 2 * pi * self.radius\n",
        "\n",
        "class rectangle(shape):\n",
        "    def __init__(self,length, breadth):\n",
        "\n",
        "        self.length = length\n",
        "        self.breadth = breadth\n",
        "    def area(self):\n",
        "        return self.length * self.breadth\n",
        "    def perimeter(self):\n",
        "        return 2 * (self.length + self.breadth)\n",
        "\n",
        "class square(shape):\n",
        "    def __init__(self,side):\n",
        "        # shape.__init__(self,area)\n",
        "        self.side = side\n",
        "    def area(self):\n",
        "        return self.side * self.side\n",
        "    def perimeter(self):\n",
        "        return 4 * self.side\n",
        "\n",
        "class hexagon(shape):\n",
        "    def __init__(self,side):\n",
        "        # shape.__init__(self,area)\n",
        "        self.side = side\n",
        "    def area(self):\n",
        "        return 3 * (3 ** 0.5) * self.side * self.side * 0.5\n",
        "    def perimeter(self):\n",
        "        return 6 * self.side\n",
        "\n"
      ]
    },
    {
      "cell_type": "code",
      "source": [
        "def choose_shape():\n",
        "    print (\" Enter the number for the required shape: \")\n",
        "    num = int(input(\" 1 - circle \\n 2 - rectangle \\n 3 - sqaure \\n 4 - hexagon \\n\"))\n",
        "    obj = None\n",
        "    if num == 1:\n",
        "        radius = float(input(\"Enter radius: \"))\n",
        "        obj = circle(radius)\n",
        "        print(\"Area is : \" , round( obj.area(), 2))\n",
        "        print(\"Circumference is : \", round(obj.circumference(), 2))\n",
        "    if num ==  2:\n",
        "        length = float(input(\"Enter length \"))\n",
        "        breadth = float(input(\"Enter breadth \"))\n",
        "        obj = rectangle(length, breadth)\n",
        "        print(\"Area is : \" , round( obj.area(), 2))\n",
        "        print(\"Perimeter is :\", round(obj.perimeter(), 2))\n",
        "    if num == 3:\n",
        "        side = float(input(\"Enter side \"))\n",
        "        obj = square(side)\n",
        "        print(\"Area is : \" ,round( obj.area(), 2))\n",
        "        print(\"Perimeter is :\",round(obj.perimeter(), 2))\n",
        "    if num == 4:\n",
        "        side = float(input(\"Enter side \"))\n",
        "        obj = hexagon(side)\n",
        "        print(\"Area is : \" ,round( obj.area(), 2))\n",
        "        print(\"Perimeter is :\",round(obj.perimeter(), 2))"
      ],
      "metadata": {
        "id": "G8rRKbZI8rUu"
      },
      "execution_count": null,
      "outputs": []
    },
    {
      "cell_type": "code",
      "source": [
        "choose_shape()"
      ],
      "metadata": {
        "colab": {
          "base_uri": "https://localhost:8080/"
        },
        "id": "slMbl-q1-W6C",
        "outputId": "0e5f6da8-edfb-47e6-da29-3e8b1bf28e3d"
      },
      "execution_count": null,
      "outputs": [
        {
          "output_type": "stream",
          "name": "stdout",
          "text": [
            " Enter the number for the required shape: \n",
            " 1 - circle \n",
            " 2 - rectangle \n",
            " 3 - sqaure \n",
            " 4 - hexagon \n",
            "1\n",
            "Enter radius: 5\n",
            "Area is :  78.5\n",
            "Circumference is :  31.4\n"
          ]
        }
      ]
    },
    {
      "cell_type": "code",
      "source": [
        "choose_shape()"
      ],
      "metadata": {
        "colab": {
          "base_uri": "https://localhost:8080/"
        },
        "id": "u4X93ETG-cjj",
        "outputId": "a57386c0-b624-45a4-e22a-0563405e7adb"
      },
      "execution_count": null,
      "outputs": [
        {
          "output_type": "stream",
          "name": "stdout",
          "text": [
            " Enter the number for the required shape: \n",
            " 1 - circle \n",
            " 2 - rectangle \n",
            " 3 - sqaure \n",
            " 4 - hexagon \n",
            "2\n",
            "Enter length 4\n",
            "Enter breadth 6\n",
            "Area is :  24.0\n",
            "Perimeter is : 20.0\n"
          ]
        }
      ]
    },
    {
      "cell_type": "code",
      "source": [
        "choose_shape()"
      ],
      "metadata": {
        "colab": {
          "base_uri": "https://localhost:8080/"
        },
        "id": "T6diGupjCeRo",
        "outputId": "7c4c2977-cec9-4e60-dc56-c0a5b13e5b3b"
      },
      "execution_count": null,
      "outputs": [
        {
          "output_type": "stream",
          "name": "stdout",
          "text": [
            " Enter the number for the required shape: \n",
            " 1 - circle \n",
            " 2 - rectangle \n",
            " 3 - sqaure \n",
            " 4 - hexagon \n",
            "3\n",
            "Enter side 6\n",
            "Area is :  36.0\n",
            "Perimeter is : 24.0\n"
          ]
        }
      ]
    },
    {
      "cell_type": "code",
      "source": [
        "choose_shape()"
      ],
      "metadata": {
        "colab": {
          "base_uri": "https://localhost:8080/"
        },
        "id": "XLCt9WkiCiTl",
        "outputId": "9e820529-df7e-4261-d5f1-501bda2dac2b"
      },
      "execution_count": null,
      "outputs": [
        {
          "output_type": "stream",
          "name": "stdout",
          "text": [
            " Enter the number for the required shape: \n",
            " 1 - circle \n",
            " 2 - rectangle \n",
            " 3 - sqaure \n",
            " 4 - hexagon \n",
            "4\n",
            "Enter side 5\n",
            "Area is :  64.95\n",
            "Perimeter is : 30.0\n"
          ]
        }
      ]
    },
    {
      "cell_type": "code",
      "source": [],
      "metadata": {
        "id": "wvxzWAKgC7VM"
      },
      "execution_count": null,
      "outputs": []
    }
  ]
}